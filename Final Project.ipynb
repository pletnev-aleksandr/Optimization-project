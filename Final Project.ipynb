{
 "cells": [
  {
   "cell_type": "code",
   "execution_count": 2,
   "metadata": {
    "scrolled": false
   },
   "outputs": [],
   "source": [
    "import matplotlib\n",
    "#matplotlib.use('TkAgg')\n",
    "#!pip install qiskit==0.5.7\n",
    "import matplotlib.pyplot as plt\n",
    "import matplotlib.axes as axes\n",
    "\n",
    "import numpy as np\n",
    "from scipy import linalg as la\n",
    "from itertools import permutations\n",
    "from functools import partial\n",
    "import networkx as nx\n",
    "\n",
    "# importing the QISKit\n",
    "from qiskit import QuantumCircuit, QuantumProgram\n",
    "#import Qconfig\n",
    "\n",
    "# import basic plot tools\n",
    "from qiskit.tools.visualization import plot_histogram\n",
    "\n",
    "# import optimization tools\n",
    "from qiskit.tools.apps.optimization import trial_circuit_ry, SPSA_optimization, SPSA_calibration\n",
    "from qiskit.tools.apps.optimization import Energy_Estimate, make_Hamiltonian, eval_hamiltonian, group_paulis\n",
    "from qiskit.tools.qi.pauli import Pauli\n",
    "import qiskit"
   ]
  },
  {
   "cell_type": "markdown",
   "metadata": {},
   "source": [
    "# Max-Cut problem"
   ]
  },
  {
   "cell_type": "markdown",
   "metadata": {},
   "source": [
    "Given a graph $(V,E)$, every $i \\sim j \\in E$ has its cost $c_{ij}$.  \n",
    "Cut graph into two parts such that:\n",
    "\n",
    "$$\n",
    "\\begin{array}{c}{\\max \\frac{1}{2} \\sum_{i<j} c_{i j}\\left(1-x_{i} x_{j}\\right)} \\\\ {x_{i} \\in\\{-1,1\\}, \\quad i=1, \\ldots, n}\\end{array}\n",
    "$$\n",
    "\n",
    "Equivalent formula:\n",
    "$$\n",
    "\\begin{array}{c}{\\max  \\frac{1}{4} x^{T} L x} \\\\ {x_{i}^{2}=1}\\end{array}\n",
    "$$"
   ]
  },
  {
   "cell_type": "markdown",
   "metadata": {},
   "source": [
    "Generate Laplacian matrix for a random graph."
   ]
  },
  {
   "cell_type": "code",
   "execution_count": 3,
   "metadata": {},
   "outputs": [],
   "source": [
    "import cvxpy as cp\n",
    "import numpy as np\n",
    "import scipy as sp\n",
    "import itertools\n",
    "import networkx as nx\n",
    "\n",
    "from tqdm import tqdm_notebook\n",
    "\n",
    "import matplotlib\n",
    "import matplotlib.pyplot as plt\n",
    "%matplotlib inline\n",
    "\n",
    "import timeit\n",
    "\n",
    "n = 15\n",
    "def graph_gen(n=10):\n",
    "    A = sp.sparse.random(n, n, density=0.4, data_rvs=np.ones)\n",
    "    upper_X = sp.sparse.triu(A) \n",
    "    A = upper_X + upper_X.T\n",
    "    A = A - sp.sparse.diags(A.diagonal())\n",
    "    D = sp.sparse.diags(np.array(A.sum(axis=0))[0])\n",
    "    L = D - A\n",
    "    G = nx.from_numpy_matrix(A.todense())\n",
    "    if (not nx.is_connected(G)):\n",
    "        return graph_gen(n=10)\n",
    "    return L, A, G"
   ]
  },
  {
   "cell_type": "code",
   "execution_count": null,
   "metadata": {
    "scrolled": true
   },
   "outputs": [],
   "source": []
  },
  {
   "cell_type": "markdown",
   "metadata": {},
   "source": [
    "## Naive approach"
   ]
  },
  {
   "cell_type": "markdown",
   "metadata": {},
   "source": [
    "Grid search alghorithm (naive):"
   ]
  },
  {
   "cell_type": "code",
   "execution_count": 4,
   "metadata": {},
   "outputs": [],
   "source": [
    "L, A, G = graph_gen(12)"
   ]
  },
  {
   "cell_type": "code",
   "execution_count": 5,
   "metadata": {},
   "outputs": [
    {
     "name": "stdout",
     "output_type": "stream",
     "text": [
      "Optimal value for max cut problem is: 22.000\n",
      "CPU times: user 144 ms, sys: 835 µs, total: 145 ms\n",
      "Wall time: 143 ms\n"
     ]
    }
   ],
   "source": [
    "%%time\n",
    "def naive_max_cut(L):\n",
    "    n = L.shape[0]\n",
    "    lst = [list(i) for i in itertools.product([-1, 1], repeat=n)]\n",
    "    bs = np.argmax(np.array([L.dot(x).dot(x) for x in lst]))\n",
    "    bs_val = L.dot(lst[bs]).dot(lst[bs]) / 4\n",
    "    return bs_val, lst[bs]\n",
    "\n",
    "\n",
    "bs_val, x = naive_max_cut(L)\n",
    "print(\"Optimal value for max cut problem is: {:.3f}\".format(bs_val))"
   ]
  },
  {
   "cell_type": "code",
   "execution_count": 6,
   "metadata": {
    "scrolled": true
   },
   "outputs": [
    {
     "data": {
      "image/png": "[encoded data removed]",
      "text/plain": [
       "<Figure size 432x288 with 1 Axes>"
      ]
     },
     "metadata": {},
     "output_type": "display_data"
    }
   ],
   "source": [
    "pos = nx.spectral_layout(G)\n",
    "nx.draw_networkx(G, pos, node_color=x, with_labels=True, vmin=-1, vmax=1, edge_color='gray')"
   ]
  },
  {
   "cell_type": "markdown",
   "metadata": {},
   "source": [
    "## 2TSC Approximation Algorithm by Luca Trevisan"
   ]
  },
  {
   "cell_type": "code",
   "execution_count": 7,
   "metadata": {},
   "outputs": [],
   "source": [
    "# Approximation ratio: 0.531\n",
    "# Complexity: O(n^2)"
   ]
  },
  {
   "cell_type": "code",
   "execution_count": 8,
   "metadata": {},
   "outputs": [],
   "source": [
    "def first_lemma(G, y):\n",
    "    \"\"\"Compute first lemma.\"\"\"\n",
    "\n",
    "    numerator = 0.0\n",
    "    for i in y:\n",
    "        for j in y:\n",
    "            if G.has_edge(i, j):\n",
    "                numerator += abs(y[i] + y[j])\n",
    "\n",
    "    denominator = 0.0\n",
    "    for i in y:\n",
    "        denominator += G.degree(i) * abs(y[i])\n",
    "\n",
    "    # float division by zero\n",
    "    if denominator == 0:\n",
    "        return None\n",
    "    return numerator / denominator\n",
    "\n",
    "\n",
    "def second_lemma(G):\n",
    "    \"\"\"Compute second lemma.\"\"\"\n",
    "    cut_edges = cut_edges(G)\n",
    "    uncut_edges = G.number_of_edges() - cut_edges\n",
    "\n",
    "    numerator = float(uncut_edges - cut_edges)\n",
    "    denominator = float(G.number_of_edges())\n",
    "\n",
    "    return numerator / denominator\n",
    "\n",
    "\n",
    "def largest_eigenvector(G):\n",
    "    \"\"\"Return the largest eigenvector of a graph G.\"\"\"\n",
    "    L = nx.normalized_laplacian_matrix(G)\n",
    "\n",
    "    eigenvalues, eigenvectors = np.linalg.eig(L.toarray())\n",
    "\n",
    "    # highest eigenvalue index and ...\n",
    "    ind = np.argmax(eigenvalues)\n",
    "    # ... its corresponding eigenvector.\n",
    "    largest = eigenvectors[:, ind]\n",
    "\n",
    "    return dict(zip(G, largest))\n",
    "\n",
    "\n",
    "def two_threshold_spectral_cut(G):\n",
    "    \"\"\"Return an indicator vector of a cut computed using the largest\n",
    "    eigenvector.\n",
    "    \"\"\"\n",
    "    x = largest_eigenvector(G)\n",
    "\n",
    "    smallest = sign_norm(dict(x))  # all 1 and -1 vector\n",
    "    min_ratio = first_lemma(G, smallest)\n",
    "\n",
    "    y = dict.fromkeys(x, 0)\n",
    "\n",
    "    for k in x:\n",
    "\n",
    "        for i in x:\n",
    "\n",
    "            if x[i] < -abs(x[k]):\n",
    "                y[i] = -1\n",
    "            elif x[i] > abs(x[k]):\n",
    "                y[i] = 1\n",
    "            elif abs(x[i]) <= abs(x[k]):\n",
    "                y[i] = 0\n",
    "\n",
    "        # compute first lemma\n",
    "        ratio = first_lemma(G, y)\n",
    "\n",
    "        if ratio is not None:\n",
    "            if min_ratio is None:\n",
    "                min_ratio, smallest = ratio, dict(y)\n",
    "            elif ratio < min_ratio:\n",
    "                min_ratio, smallest = ratio, dict(y)\n",
    "\n",
    "    # smallest ratio's vector\n",
    "    return smallest\n",
    "\n",
    "\n",
    "def recursive_spectral_cut(G):\n",
    "    \"\"\"Return an approximate solution to the max cut problem.\n",
    "    Use the two_threshold_spectral_cut and recursively cut\n",
    "    the undecided nodes.\n",
    "    \"\"\"\n",
    "\n",
    "    if not G or G.number_of_nodes() == 0:\n",
    "        return set(), set()\n",
    "\n",
    "    smallest = two_threshold_spectral_cut(G)\n",
    "\n",
    "    R = set()\n",
    "    L = set()\n",
    "    V = set()\n",
    "\n",
    "    for i in smallest:\n",
    "        if smallest[i] == 1:  # blue\n",
    "            R.add(i)\n",
    "        elif smallest[i] == 0:  # magenta\n",
    "            V.add(i)\n",
    "        elif smallest[i] == -1:  # black\n",
    "            L.add(i)\n",
    "\n",
    "    G1 = nx.Graph(nx.subgraph(G, V))\n",
    "\n",
    "    M = G.number_of_edges() - G1.number_of_edges()\n",
    "    C = edges_beetween(G, L, R)  # cut edges\n",
    "    X = edges_beetween(G, L, V) + edges_beetween(G, R, V)\n",
    "\n",
    "    if C + 0.5 * X <= 0.5 * M or not V:\n",
    "        if edges_beetween(G, L, R) < G.number_of_edges() / 2:\n",
    "            return greedy_cut(G)\n",
    "        return L, R\n",
    "\n",
    "    if C + 0.5 * X > 0.5 * M:\n",
    "\n",
    "        # SPECIAL CASE: all undecided nodes (V) are isolate deg = 0\n",
    "        if is_all_isolate(G1):\n",
    "            set_partitions(G, L, R)\n",
    "            visited = (L | R) - V\n",
    "            B, K = greedy_cut(G, V, visited)\n",
    "            return L | B, R | K\n",
    "\n",
    "        V1, V2 = recursive_spectral_cut(G1)\n",
    "\n",
    "        if (edges_beetween(G, V1 | L, V2 | R) > \n",
    "            edges_beetween(G, V1 | R, V2 | L)):\n",
    "            return V1 | L, V2 | R\n",
    "        return V1 | R, V2 | L\n",
    "\n",
    "def sign_norm(d):\n",
    "    \"\"\"Normalize dictionary keys according to sign function\"\"\"\n",
    "    sign_d = {}\n",
    "    for i in d:\n",
    "        sign_d[i] = np.sign(d[i])\n",
    "    return sign_d    \n",
    "\n",
    "\n",
    "def edges_beetween(G, a, b):\n",
    "    \"\"\"Return the number of edges between two sets of nodes\n",
    "    WARNING: a and b should have no element in common.\n",
    "    \"\"\"\n",
    "    return len(list(nx.edge_boundary(G, a, b)))\n",
    "\n",
    "def set_partitions(G, blue_nodes, black_nodes):\n",
    "    \"\"\"Set node's blue class and black class\"\"\"\n",
    "\n",
    "    init_cut(G)\n",
    "    cut(G, dict.fromkeys(blue_nodes, BLUE))\n",
    "    cut(G, dict.fromkeys(black_nodes, BLACK))\n",
    "    \n",
    "def cut_edges(G, partition_dict=None):\n",
    "    \"\"\"Return the value of the cut.\n",
    "    Cut edges: the number of cross edges between blue and black nodes.\n",
    "    \"\"\"\n",
    "    if partition_dict is not None:\n",
    "        nbunch = partition_dict.keys()\n",
    "        cut(G, partition_dict)\n",
    "    else:\n",
    "        nbunch = G.nodes()\n",
    "\n",
    "    blue_nodes, black_nodes, undecided = get_partitions(G, nbunch)[0:3]\n",
    "    return edges_beetween(G, blue_nodes, black_nodes)\n",
    "\n",
    "\n",
    "def trevisan_approximation_alg(G):\n",
    "\n",
    "    B, K = recursive_spectral_cut(G)\n",
    "    return (B,K)\n",
    "    # set blue and black nodes in graph G\n",
    "    #set_partitions(G, B, K)\n",
    "    #return cut_edges(G)\n",
    "\n",
    "PARTITION = 'partition'\n",
    "# Node's classes\n",
    "BLUE = 1\n",
    "BLACK = -1\n",
    "\n",
    "UNDECIDED = 0  # magenta\n",
    "MARKED = 2 # red\n",
    "\n",
    "def init_cut(G, nbunch=None):\n",
    "    \"\"\"Initialize cut: set all nodes or a bunch of nodes as undecided\"\"\"\n",
    "    if nbunch is None:\n",
    "        nbunch = G.nodes()\n",
    "\n",
    "    nx.set_node_attributes(G, PARTITION, dict.fromkeys(nbunch, UNDECIDED))\n",
    "\n",
    "def integer_to_binary(i, n):\n",
    "    \"\"\"Convert an integer to binary.\"\"\"\n",
    "    rep = bin(i)[2:]\n",
    "    return ('0' * (n - len(rep))) + rep\n",
    "\n",
    "\n",
    "def is_all_isolate(G):\n",
    "    \"\"\"Return true if all the nodes in the graph G are isolates\"\"\"\n",
    "\n",
    "    nodes = G.nodes()\n",
    "\n",
    "    if not nodes:\n",
    "        return False\n",
    "\n",
    "    for v in nodes:\n",
    "        if nx.degree(G, v) != 0:\n",
    "            return False\n",
    "    return True\n",
    "\n",
    "def binary_cut(G, int_cut, bin_cut=None):\n",
    "    \"\"\"Cut a graph G using a binary operation.\"\"\"\n",
    "    if bin_cut is None:\n",
    "        bin_cut = integer_to_binary(int_cut, G.number_of_nodes())\n",
    "\n",
    "    for i, node in enumerate(G.nodes()):\n",
    "        if bin_cut[i] is '0':\n",
    "            G.node[node][PARTITION] = BLACK\n",
    "        else:\n",
    "            G.node[node][PARTITION] = BLUE\n",
    "\n",
    "    return nx.get_node_attributes(G, PARTITION)\n",
    "\n",
    "\n",
    "def partition_dictionary(G):\n",
    "    \"\"\"Return a dictionary rapresentation of a cut\"\"\"\n",
    "    return nx.get_node_attributes(G, PARTITION)\n",
    "\n",
    "def get_partitions(G, nbunch=None):\n",
    "    \"\"\"Return all partitions of a graph G as different sets\"\"\"\n",
    "\n",
    "    if nbunch is None:\n",
    "        nbunch = G.nodes()\n",
    "\n",
    "    blue_nodes = set()\n",
    "    black_nodes = set()\n",
    "    undecided_nodes = set()\n",
    "    marked_nodes = set()\n",
    "\n",
    "    for i in nbunch:\n",
    "\n",
    "        if G.node[i][PARTITION] is BLUE:\n",
    "            blue_nodes.add(i)\n",
    "\n",
    "        elif G.node[i][PARTITION] is BLACK:\n",
    "            black_nodes.add(i)\n",
    "\n",
    "        elif G.node[i][PARTITION] is MARKED:\n",
    "            marked_nodes.add(i)\n",
    "\n",
    "        else:\n",
    "            undecided_nodes.add(i)\n",
    "\n",
    "    return (blue_nodes, black_nodes, undecided_nodes, marked_nodes)\n",
    "\n",
    "def could_be_cut(G, partition_dict):\n",
    "    \"\"\"Return true if the graph is being cut according\n",
    "    to the node's minority class.\n",
    "    \"\"\"\n",
    "    is_cut = False\n",
    "\n",
    "    for i in partition_dict:\n",
    "        if partition_dict[i] is UNDECIDED or partition_dict[i] is MARKED:\n",
    "            node_color = minority_class(G, partition_dict, i)\n",
    "            if node_color is not UNDECIDED:\n",
    "                partition_dict[i] = node_color\n",
    "                is_cut = True\n",
    "\n",
    "    return is_cut\n",
    "\n",
    "def minority_class(G, partition_dict, node):\n",
    "    \"\"\"Compute the minority class of a node.\n",
    "    Minority class: tells the class of which a node should belong\n",
    "    in order to maximize the cut.\n",
    "    \"\"\"\n",
    "    neighbors = G.neighbors(node)\n",
    "\n",
    "    blue_neighbors = 0\n",
    "    black_neighbors = 0\n",
    "\n",
    "    size = len(list(neighbors))\n",
    "\n",
    "    for i in neighbors:\n",
    "        if partition_dict[i] is BLUE:\n",
    "            blue_neighbors += 1\n",
    "        elif partition_dict[i] is BLACK:\n",
    "            black_neighbors += 1\n",
    "\n",
    "    if blue_neighbors > size / 2:\n",
    "        return BLACK\n",
    "\n",
    "    if black_neighbors > size / 2:\n",
    "        return BLUE\n",
    "\n",
    "    return UNDECIDED\n",
    "\n",
    "\n",
    "def strong_minority_class(G, partition_dict, node):\n",
    "    \"\"\"Compute strong minority class of a node\"\"\"\n",
    "    neighbors = G.neighbors(node)\n",
    "\n",
    "    blue_neighbors = 0\n",
    "    black_neighbors = 0\n",
    "\n",
    "    for i in neighbors:\n",
    "        if partition_dict[i] is BLUE:\n",
    "            blue_neighbors += 1\n",
    "        elif partition_dict[i] is BLACK:\n",
    "            black_neighbors += 1\n",
    "\n",
    "    # if all neighbors are marked\n",
    "    if blue_neighbors == 0 and black_neighbors == 0:\n",
    "        return MARKED\n",
    "\n",
    "    if blue_neighbors > black_neighbors:\n",
    "        return BLACK\n",
    "    return BLUE\n",
    "\n",
    "\n",
    "def degree_nodes_sequence(G, nbunch=None, reverse=False):\n",
    "    \"\"\"Return a list of nodes in ascending order according to\n",
    "    their degree value.\n",
    "    \"\"\"\n",
    "    degrees_dict = G.degree(nbunch)\n",
    "    return sorted(degrees_dict,key=lambda x: x[1],reverse=reverse)\n",
    "    \n",
    "def adj_matrix_to_list(l):\n",
    "    graph = []\n",
    "    edges = set()\n",
    "    for i, v in enumerate(l, 1):\n",
    "        for j, u in enumerate(v, 1):\n",
    "            if u != 0 and frozenset([i-1, j-1]) not in edges:\n",
    "                edges.add(frozenset([i-1, j-1]))\n",
    "                graph.append((i-1,j-1,u))\n",
    "    return graph\n",
    "\n",
    "def calculate_optimal_value(A,x):\n",
    "    first_cut = 0 \n",
    "    second_cut = 0 \n",
    "    for idx,val in enumerate(A.toarray()):\n",
    "        for idxx,vall in enumerate(A.toarray()[idx]):\n",
    "            if (vall != 0):\n",
    "                if (x[idx]== x[idxx] and x[idx]==1):\n",
    "                    first_cut+=1\n",
    "                if (x[idx]== x[idxx] and x[idx]==0):\n",
    "                    second_cut+=1\n",
    "    return max(first_cut,second_cut)"
   ]
  },
  {
   "cell_type": "code",
   "execution_count": 9,
   "metadata": {},
   "outputs": [
    {
     "name": "stdout",
     "output_type": "stream",
     "text": [
      "Optimal value for max cut problem is: 12.000\n",
      "CPU times: user 7.91 ms, sys: 3.87 ms, total: 11.8 ms\n",
      "Wall time: 11 ms\n"
     ]
    }
   ],
   "source": [
    "%%time\n",
    "x = np.zeros(len(A.toarray()))\n",
    "result = trevisan_approximation_alg(G)\n",
    "for xx in list(result[0]):\n",
    "    x[xx]=1\n",
    "print(\"Optimal value for max cut problem is: {:.3f}\".format(calculate_optimal_value(A,x)))"
   ]
  },
  {
   "cell_type": "code",
   "execution_count": 10,
   "metadata": {
    "scrolled": false
   },
   "outputs": [
    {
     "data": {
      "image/png": "[encoded data removed]",
      "text/plain": [
       "<Figure size 432x288 with 1 Axes>"
      ]
     },
     "metadata": {},
     "output_type": "display_data"
    }
   ],
   "source": [
    "pos = nx.spectral_layout(G)\n",
    "nx.draw_networkx(G, pos, node_color=x, with_labels=True, vmin=-1, vmax=1, edge_color='gray')"
   ]
  },
  {
   "cell_type": "markdown",
   "metadata": {},
   "source": [
    "## Enumerative Methods for Maximum Cut's Exact Solutions by Andrea Casini"
   ]
  },
  {
   "cell_type": "code",
   "execution_count": 11,
   "metadata": {},
   "outputs": [],
   "source": [
    "# Complexity: O(2^n)"
   ]
  },
  {
   "cell_type": "code",
   "execution_count": 12,
   "metadata": {},
   "outputs": [],
   "source": [
    "def brute_force_max_cut(G):\n",
    "    \"Compute maximum cut of a graph considering all the possible cuts.\"\n",
    "\n",
    "    max_cut_value = 0\n",
    "    max_cut_ind = 0\n",
    "\n",
    "    n = G.number_of_nodes()\n",
    "\n",
    "    for i in range(1, 2 ** (n - 1)):\n",
    "        cut_graph = nx.Graph(G)\n",
    "\n",
    "        binary_cut(cut_graph, i)\n",
    "        value = cut_edges(cut_graph)\n",
    "\n",
    "        if value > max_cut_value:\n",
    "            max_cut_value = value\n",
    "            max_cut_ind = i\n",
    "    binary_cut(G, max_cut_ind)\n",
    "    return partition_dictionary(G), max_cut_value"
   ]
  },
  {
   "cell_type": "code",
   "execution_count": 13,
   "metadata": {},
   "outputs": [
    {
     "name": "stdout",
     "output_type": "stream",
     "text": [
      "Optimal value for max cut problem is: 22.000\n",
      "CPU times: user 905 ms, sys: 3.28 ms, total: 908 ms\n",
      "Wall time: 907 ms\n"
     ]
    }
   ],
   "source": [
    "%%time\n",
    "dicti, max_cut_value  = brute_force_max_cut(G)\n",
    "x  = list(dicti.values())\n",
    "print(\"Optimal value for max cut problem is: {:.3f}\".format(max_cut_value))"
   ]
  },
  {
   "cell_type": "code",
   "execution_count": 14,
   "metadata": {},
   "outputs": [
    {
     "data": {
      "image/png": "[encoded data removed]",
      "text/plain": [
       "<Figure size 432x288 with 1 Axes>"
      ]
     },
     "metadata": {},
     "output_type": "display_data"
    }
   ],
   "source": [
    "pos = nx.spectral_layout(G)\n",
    "nx.draw_networkx(G, pos, node_color=x, with_labels=True, vmin=-1, vmax=1, edge_color='gray')"
   ]
  },
  {
   "cell_type": "markdown",
   "metadata": {},
   "source": [
    "## QUBO - Quantum computing"
   ]
  },
  {
   "cell_type": "code",
   "execution_count": 15,
   "metadata": {},
   "outputs": [],
   "source": [
    "#https://tc3-japan.github.io/DA_tutorial/tutorial-3-max-cut.html\n",
    "import numpy as np\n",
    "import copy\n",
    "\n",
    "\n",
    "'''\n",
    "Step 2. Create a Helper Object that can be used to define QUBO \n",
    "'''\n",
    "\n",
    "\n",
    "class BinaryQuadraticPolynomial:\n",
    "    def __init__(self, n = 1024):\n",
    "\n",
    "        self.array = np.zeros((n, n), dtype = int)\n",
    "        self.constant = 0\n",
    "        self._size = n\n",
    "\n",
    "    def export_dict(self):\n",
    "        '''Convert this quadratic polynomial to a dictionary. This is will be called in the DA Solver.'''\n",
    "        cells = np.where(self.array != 0)\n",
    "        ts = [{\"coefficient\": float(self.array[i][j]), \"polynomials\": [int(i), int(j)]} for i, j in zip(cells[0], cells[1])]\n",
    "        if self.constant != 0:\n",
    "            ts.append({\"coefficient\": float(self.constant), \"polynomials\": []})\n",
    "        return {'binary_polynomial': {'terms': ts}}\n",
    "\n",
    "    def add_coef(self, i, j, c):\n",
    "\n",
    "        if i > j: # make sure it is an upper triangle matrix.\n",
    "            t = i\n",
    "            i = j\n",
    "            j = t\n",
    "        assert i >= 0, '[Error] Index out of boundary!'\n",
    "        assert j < self._size, '[Error] Index out of boundary!'\n",
    "        self.array[i][j] += c\n",
    "\n",
    "    def add_constant(self, c):\n",
    "\n",
    "        self.constant += c\n",
    "\n",
    "    def add_poly(self, other_quad_poly):\n",
    "\n",
    "        assert self._size == other_quad_poly._size, '[Error] Array sizes are different!'\n",
    "        self.array += other_quad_poly.array\n",
    "        self.constant += other_quad_poly.constant\n",
    "\n",
    "    def multiply_constant(self, c):\n",
    "\n",
    "        self.array *= c\n",
    "        self.constant *= c\n",
    "\n",
    "    def finalize(self):\n",
    "\n",
    "        return copy.deepcopy(self)\n",
    "\n",
    "\n",
    "'''\n",
    "Step 3. Build Objective Function\n",
    "'''\n",
    "\n",
    "\n",
    "def build_max_cut_rule(n_node, edges):\n",
    "\n",
    "    rule = BinaryQuadraticPolynomial(n_node)\n",
    "    for (i, j, dij) in edges:\n",
    "      # dij * (x_i - x_j) ^ 2\n",
    "        rule.add_coef(i, j, -2 * dij)\n",
    "        rule.add_coef(i, i, dij)\n",
    "        rule.add_coef(j, j, dij)\n",
    "    rule.multiply_constant(-1)\n",
    "    return rule.finalize()\n",
    "\n",
    "\n",
    "class Solution:\n",
    "    def __init__(self, energy=0, frequency=0, configuration=[]):\n",
    "        self.energy = energy\n",
    "        self.frequency = frequency\n",
    "        self.configuration = configuration\n",
    "\n",
    "\n",
    "def solveDA(rule, da_params):\n",
    "    '''This is a placeholder'''\n",
    "    import json\n",
    "    #print(json.dumps({'da_params': da_params,'rule': rule.export_dict()}))\n",
    "    dummy_solution = Solution(1, 1, list(np.random.randint(2, size=rule._size)))\n",
    "    return [dummy_solution]\n",
    "\n",
    "def find_minimum_solution(da_results):\n",
    "    minimum = da_results[0].energy\n",
    "    best_solution = None\n",
    "    for result in da_results:\n",
    "        e = result.energy\n",
    "        s = result\n",
    "        if minimum <= e:\n",
    "        #if minimum <= e:\n",
    "            minimum = e\n",
    "            best_solution = s\n",
    "    return best_solution\n",
    "\n",
    "\n",
    "def make_max_cut_answer(da_results):\n",
    "    # This is an example.\n",
    "    solution = find_minimum_solution(da_results)\n",
    "    return solution.configuration\n",
    "   #group_1 = []\n",
    "    #group_2 = []\n",
    "    #for i, bit in enumerate(solution.configuration):\n",
    "#        if bit == 0:\n",
    " #           group_1.append(i + 1)\n",
    "#        else:\n",
    "#            group_2.append(i + 1)\n",
    " #   return group_1, group_2\n",
    "\n",
    "\n",
    "def main(n_node, edges):\n",
    "    qubo = build_max_cut_rule(n_node, edges)\n",
    "\n",
    "    # wrapper to call DA API.\n",
    "    da_results = solveDA(qubo, {\n",
    "      'number_iterations': 3500000,\n",
    "      'number_replicas': 52,  # Min: 26, Max: 128\n",
    "      # Start solving using the initial bits.\n",
    "      'guidance_config': {str(x): False for x in range(0, qubo._size)},\n",
    "      'solution_mode': 'COMPLETE'  # QUICK or COMPLETE\n",
    "    })\n",
    "    \n",
    "    # Return the groups of nodes of the max-cut.\n",
    "    \n",
    "    return find_minimum_solution(da_results)\n",
    "    #return make_max_cut_answer(da_results)\n",
    "    #group_1, group_2 = make_max_cut_answer(da_results)\n",
    "    #return (group_1, group_2)\n",
    "\n"
   ]
  },
  {
   "cell_type": "code",
   "execution_count": 16,
   "metadata": {},
   "outputs": [
    {
     "name": "stdout",
     "output_type": "stream",
     "text": [
      "Optimal value for max cut problem is: 16.000\n",
      "CPU times: user 2.5 ms, sys: 0 ns, total: 2.5 ms\n",
      "Wall time: 1.8 ms\n"
     ]
    }
   ],
   "source": [
    "%%time\n",
    "n = len(A.toarray())\n",
    "adj_list = adj_matrix_to_list(A.toarray())\n",
    "x = main(n,adj_list).configuration\n",
    "print(\"Optimal value for max cut problem is: {:.3f}\".format(calculate_optimal_value(A,x)))"
   ]
  },
  {
   "cell_type": "code",
   "execution_count": 17,
   "metadata": {},
   "outputs": [
    {
     "data": {
      "image/png": "[encoded data removed]",
      "text/plain": [
       "<Figure size 432x288 with 1 Axes>"
      ]
     },
     "metadata": {},
     "output_type": "display_data"
    }
   ],
   "source": [
    "pos = nx.spectral_layout(G)\n",
    "nx.draw_networkx(G, pos, node_color=x, with_labels=True, vmin=-1, vmax=1, edge_color='gray')"
   ]
  },
  {
   "cell_type": "markdown",
   "metadata": {},
   "source": [
    "## Upper bound"
   ]
  },
  {
   "cell_type": "markdown",
   "metadata": {},
   "source": [
    "From [Boyd's extra exercises Book](www.apmath.spbu.ru/cnsa/pdf/monograf/bv_cvxbook_extra_exercises.pdf) we know that upper bound of the problem is given by convex optimization problem:\n",
    "\n",
    "$$\n",
    "f(W)=\\inf _{\\mathbf{1}^{T} x=0} n \\lambda_{\\max }(L(W)+\\operatorname{diag}(x))\n",
    "$$"
   ]
  },
  {
   "cell_type": "markdown",
   "metadata": {},
   "source": [
    "$$\n",
    "\\begin{array}{ll}{\\text { maximize }} & {\\sum_{i \\leq j} w_{i j}\\left\\|p_{i}-p_{j}\\right\\|_{2}^{2}} \\\\ {\\text { subject }} & {\\left\\|p_{i}\\right\\|_{2}=1, \\quad i=1, \\ldots, n}\\end{array}\n",
    "$$"
   ]
  },
  {
   "cell_type": "code",
   "execution_count": 18,
   "metadata": {},
   "outputs": [
    {
     "name": "stdout",
     "output_type": "stream",
     "text": [
      "Upper bound: 22.8767\n",
      "CPU times: user 1.56 s, sys: 30.4 ms, total: 1.59 s\n",
      "Wall time: 53.2 ms\n"
     ]
    }
   ],
   "source": [
    "%%time\n",
    "\n",
    "def upper_bound_max_cut(L):\n",
    "    n = L.shape[0]\n",
    "    x = cp.Variable(n)\n",
    "    obj = n * cp.lambda_max(L + cp.diag(x))\n",
    "    constr = [cp.sum(x) == 0]\n",
    "\n",
    "    problem = cp.Problem(cp.Minimize(obj), constr)\n",
    "    return problem.solve() / 4, x.value\n",
    "\n",
    "bs_value, x = upper_bound_max_cut(L)\n",
    "print(\"Upper bound: {:.4f}\".format(bs_value))"
   ]
  },
  {
   "cell_type": "markdown",
   "metadata": {},
   "source": [
    "## Goemans-Williamson"
   ]
  },
  {
   "cell_type": "markdown",
   "metadata": {},
   "source": [
    "$$\n",
    "\\begin{aligned}\n",
    "\\text{maximize} &\\quad \\frac14 \\langle L, X\\rangle  = \\frac14 \\operatorname{trace}(L X)\\\\\n",
    "\\text{s.t.}:    &\\quad X_{ii}=1 , \\; \\forall i = \\overline{1,n}\\\\\n",
    "                &\\quad X \\succeq 0\n",
    "\\end{aligned}\n",
    "$$"
   ]
  },
  {
   "cell_type": "code",
   "execution_count": 19,
   "metadata": {
    "scrolled": true
   },
   "outputs": [
    {
     "name": "stdout",
     "output_type": "stream",
     "text": [
      "PSD relaxation 22.000\n",
      "CPU times: user 1.05 s, sys: 0 ns, total: 1.05 s\n",
      "Wall time: 36.2 ms\n"
     ]
    }
   ],
   "source": [
    "%%time\n",
    "\n",
    "def goemans_williamson_max_cut(L):\n",
    "    n = L.shape[0]\n",
    "    X = cp.Variable((n, n), PSD=True)\n",
    "\n",
    "    constr = [cp.diag(X) == np.ones(n)]\n",
    "    obj = cp.trace(L * X) / 4\n",
    "\n",
    "    problem = cp.Problem(cp.Maximize(obj), constr)\n",
    "    \n",
    "    \n",
    "    bs_value = problem.solve()\n",
    "    eps = 1e-3\n",
    "    V = np.linalg.cholesky(X.value + eps * np.identity(n))\n",
    "\n",
    "    # xi - random uniform on unit sphere\n",
    "    normal_deviates = np.random.normal(size=(n, 1))\n",
    "    radius = np.sqrt((normal_deviates**2).sum(axis=0))\n",
    "    xi = normal_deviates / radius\n",
    "\n",
    "    x = np.sign(V.dot(xi))\n",
    "    bs_val = np.array([L.dot(x).dot(x) / 4 for x in x.T])\n",
    "    idx_max = np.argmax(bs_val)\n",
    "    return bs_val[idx_max], x[:, idx_max]\n",
    "\n",
    "bs_value, x = goemans_williamson_max_cut(L)\n",
    "print(\"PSD relaxation {:.3f}\".format(bs_value))"
   ]
  },
  {
   "cell_type": "markdown",
   "metadata": {},
   "source": [
    "Theoretical results give us:\n",
    "$$0.87 f^{*} \\leq \\mathbf{E}_{\\xi}\\left(\\tilde{x}^{T} C \\tilde{x}\\right) \\leq f^{*}$$"
   ]
  },
  {
   "cell_type": "raw",
   "metadata": {},
   "source": [
    "print(\"Mean value by Goemans-Williamson is: {:.3f}\".format(bs_val.mean()))\n",
    "print(\"Max  value by Goemans-Williamson is: {:.3f}\".format(bs_val.max()))\n",
    "print()\n",
    "print(\"Inequalities fulfilled: {} ≤ {} ≤ {}\".format(0.87 * bs_val.max(), bs_val.mean(), bs_val.max()))"
   ]
  },
  {
   "cell_type": "markdown",
   "metadata": {},
   "source": [
    "## Approx Max-Cut using Local Search"
   ]
  },
  {
   "cell_type": "code",
   "execution_count": 20,
   "metadata": {},
   "outputs": [
    {
     "name": "stdout",
     "output_type": "stream",
     "text": [
      "Local Search  gives 22.000\n"
     ]
    }
   ],
   "source": [
    "#initilaize random split\n",
    "\n",
    "def Local_Search_max_cut(L):\n",
    "    n = L.shape[0]\n",
    "    np.random.seed()\n",
    "    x = np.random.choice([-1, 1], size=n)\n",
    "\n",
    "    bs_value = L.dot(x).dot(x)\n",
    "#     print(\"Initial guess gives {:.3f}\".format(bs_value / 4))\n",
    "\n",
    "    improved = True\n",
    "    while improved :\n",
    "        improved = False\n",
    "        for idx in range(n):\n",
    "            x_new = x.copy()\n",
    "            x_new[idx] *= -1 #change one index\n",
    "            new_value = L.dot(x_new).dot(x_new)\n",
    "            if (new_value > bs_value):\n",
    "                bs_value = new_value\n",
    "                x = x_new.copy()\n",
    "                improved = True\n",
    "                break\n",
    "    return bs_value / 4, x\n",
    "\n",
    "bs_value, x = Local_Search_max_cut(L)\n",
    "print(\"Local Search  gives %.3f\" % (bs_value)) "
   ]
  },
  {
   "cell_type": "code",
   "execution_count": 21,
   "metadata": {},
   "outputs": [
    {
     "data": {
      "image/png": "[encoded data removed]",
      "text/plain": [
       "<Figure size 432x288 with 1 Axes>"
      ]
     },
     "metadata": {},
     "output_type": "display_data"
    }
   ],
   "source": [
    "nx.draw_networkx(G, pos, node_color=x, with_labels=True, vmin=-1, vmax=1, edge_color='gray')"
   ]
  },
  {
   "cell_type": "markdown",
   "metadata": {},
   "source": [
    "## Max-Cut using Greedy Algorithm"
   ]
  },
  {
   "cell_type": "code",
   "execution_count": 22,
   "metadata": {},
   "outputs": [
    {
     "name": "stdout",
     "output_type": "stream",
     "text": [
      "Greedy Algorithm  gives: 19.0\n"
     ]
    }
   ],
   "source": [
    "def Greedy_Algorithm_max_cut(L):\n",
    "    n = L.shape[0]\n",
    "    unused_idxs = np.arange(n)\n",
    "    np.random.shuffle(unused_idxs)\n",
    "\n",
    "    used_idxs = []\n",
    "    x = []\n",
    "    for idx in unused_idxs:\n",
    "        used_idxs += [idx]\n",
    "        x_pos = x.copy() + [1]\n",
    "        val_pos = L[used_idxs, :][:, used_idxs].dot(x_pos).dot(x_pos)\n",
    "        x_neg = x.copy() + [-1]\n",
    "        val_neg = L[used_idxs, :][:, used_idxs].dot(x_neg).dot(x_neg)\n",
    "\n",
    "        if (val_pos > val_neg):\n",
    "            x = x_pos.copy()\n",
    "        else:\n",
    "            x = x_neg.copy()\n",
    "    return L.dot(x).dot(x) / 4, x\n",
    "\n",
    "bs_value, x = Greedy_Algorithm_max_cut(L)\n",
    "print(\"Greedy Algorithm  gives:\", bs_value)"
   ]
  },
  {
   "cell_type": "code",
   "execution_count": 23,
   "metadata": {},
   "outputs": [
    {
     "data": {
      "image/png": "[encoded data removed]",
      "text/plain": [
       "<Figure size 432x288 with 1 Axes>"
      ]
     },
     "metadata": {},
     "output_type": "display_data"
    }
   ],
   "source": [
    "nx.draw_networkx(G, pos, node_color=x, with_labels=True, vmin=-1, vmax=1, edge_color='gray')"
   ]
  },
  {
   "cell_type": "markdown",
   "metadata": {},
   "source": [
    "## Dual-Scaling"
   ]
  },
  {
   "cell_type": "code",
   "execution_count": 24,
   "metadata": {},
   "outputs": [],
   "source": [
    "def M(S):\n",
    "    m = S.shape[0]\n",
    "    E = np.eye(m)\n",
    "    M_k = np.zeros((m,m))\n",
    "    A = np.zeros(m)\n",
    "    for i in range(m):\n",
    "        e_i = E[i]\n",
    "       \n",
    "        w_i = sp.linalg.solve(S,e_i,sym_pos=True)\n",
    "        A[i] = np.dot(w_i, e_i)\n",
    "        M_k[i][i] = A[i] ** 2\n",
    "        for j in range(i+1,m):\n",
    "            M_k[i][j] = (w_i @ E[j]) ** 2\n",
    "    return M_k, A\n",
    "\n",
    "def dual_scaling(L,eps):\n",
    "    C =  L.multiply(-0.25)\n",
    "    n = L.shape[0]\n",
    "    e = np.ones((1,n))\n",
    "    #print(e)\n",
    "    z_k = np.trace(C.T @ np.eye(n))\n",
    "    #y = np.zeros(n)\n",
    "    #for i in range(n):\n",
    "     #   y[i] = C[i][i] - np.sum(np.absolute(C[i])) - 1\n",
    "    y = C.diagonal() - np.sum(np.absolute(C),axis=1)[np.newaxis, :].T + np.absolute(C.diagonal()) - e\n",
    "    #print(y)\n",
    "    S = C - np.diag(np.ravel(y))\n",
    "    #print(S)\n",
    "    ro = 5 * n\n",
    "    alpha = 0.99\n",
    "    \n",
    "    gap = (z_k - np.dot(e,y.T)) / (abs((np.dot(e,y.T))) + 1)\n",
    "    #print(gap)\n",
    "    #print(z_k)\n",
    "    while gap >= eps:\n",
    "        diag_S = np.diag(np.linalg.inv(S))\n",
    "        M_k, A = M(S)\n",
    "  \n",
    "        dy1 = np.linalg.inv(M_k) @ e.T\n",
    "        dy2 = np.linalg.inv(M_k) @ diag_S\n",
    "        #print(ro / (z_k -  np.dot(e,y[np.newaxis, :].T)) * dy1)\n",
    "        dz = np.ravel(np.ravel(ro / (z_k -  np.dot(e,y.T))) * dy1) - dy2\n",
    "        #print (dz)\n",
    "        z = np.dot(e,y.T) + (z_k - np.dot(e,y.T)) / ro * (np.dot(diag_S,dz) + n)\n",
    "        E, V = sp.linalg.eigh(np.diag(dz) + S)\n",
    "        \n",
    "        if ((z < z_k) and (np.all(E > -1e-6))):\n",
    "            #print(0)\n",
    "            z_k = z\n",
    "            dz = np.ravel(np.ravel(ro / (z_k -  np.dot(e,y.T))) * dy1) - dy2\n",
    "        P = np.sqrt(abs(np.dot(ro / (z_k - np.dot(e,y.T)) * e + A,dz)))\n",
    "        #print(np.dot(ro / (z_k - np.dot(e,y[np.newaxis, :].T)) * e + A,dz))\n",
    "        y = y + alpha / P * dz\n",
    "        #print(y)\n",
    "        S = C - np.diag(np.ravel(y))\n",
    "        #print(C)\n",
    "        gap1 = (z_k - np.dot(e,y.T)) / (abs(np.dot(e,y.T)) + 1)\n",
    "        #print(e)\n",
    "        #print(np.dot(e,y.T))\n",
    "        ro = 1.6 * n * np.sqrt(abs(gap / gap1))\n",
    "        gap = gap1\n",
    "        #print(gap)\n",
    "        #print(np.dot(e,y[np.newaxis, :].T))\n",
    "        #print (gap)\n",
    "    #print((np.linalg.inv(S) @ (np.diag(dz) + S) @ np.linalg.inv(S)).shape)\n",
    "    #print(np.linalg.inv(S) @ np.linalg.inv(S))\n",
    "    #print(np.diag(dz))\n",
    "    \n",
    "    diag_S = np.diag(np.linalg.inv(S))\n",
    "    M_k, A = M(S)\n",
    "    dy1 = np.linalg.inv(M_k) @ e.T\n",
    "    dy2 = np.linalg.inv(M_k) @ diag_S\n",
    "    dz = np.ravel(np.ravel(ro / (z_k - np.dot(e,y.T))) * dy1) - dy2\n",
    "    z = np.dot(e,y.T) + (z_k - np.dot(e,y.T)) / ro * (np.dot(diag_S,dz) + n)\n",
    "    \n",
    "    if ((z < z_k) and (np.all(E > -1e-6))):\n",
    "        z_k = z\n",
    "        dz = np.ravel(np.ravel(ro / (z_k -  np.dot(e,y.T))) * dy1) - dy2\n",
    "    \n",
    "    X =  np.ravel((z_k - np.dot(e,y.T)) / ro)[0] * np.dot(np.linalg.inv(S),np.dot( (np.diag(dz) + S), np.linalg.inv(S)))\n",
    "    #print(np.ravel((z_k - np.dot(e,y[np.newaxis, :].T)) / ro)[0])\n",
    "    return X"
   ]
  },
  {
   "cell_type": "markdown",
   "metadata": {},
   "source": [
    "## Time comparison"
   ]
  },
  {
   "cell_type": "code",
   "execution_count": 77,
   "metadata": {},
   "outputs": [],
   "source": [
    "L, A, G = graph_gen(11)"
   ]
  },
  {
   "cell_type": "code",
   "execution_count": 78,
   "metadata": {},
   "outputs": [
    {
     "data": {
      "text/plain": [
       "array([[0., 1., 0., 1., 0., 1., 0., 0., 1., 0., 0.],\n",
       "       [1., 0., 0., 1., 1., 1., 0., 0., 0., 1., 0.],\n",
       "       [0., 0., 0., 0., 0., 0., 0., 0., 1., 1., 0.],\n",
       "       [1., 1., 0., 0., 0., 0., 0., 0., 1., 0., 1.],\n",
       "       [0., 1., 0., 0., 0., 1., 0., 0., 1., 0., 0.],\n",
       "       [1., 1., 0., 0., 1., 0., 0., 1., 0., 0., 0.],\n",
       "       [0., 0., 0., 0., 0., 0., 0., 0., 1., 0., 1.],\n",
       "       [0., 0., 0., 0., 0., 1., 0., 0., 0., 1., 0.],\n",
       "       [1., 0., 1., 1., 1., 0., 1., 0., 0., 1., 0.],\n",
       "       [0., 1., 1., 0., 0., 0., 0., 1., 1., 0., 1.],\n",
       "       [0., 0., 0., 1., 0., 0., 1., 0., 0., 1., 0.]])"
      ]
     },
     "execution_count": 78,
     "metadata": {},
     "output_type": "execute_result"
    }
   ],
   "source": [
    "A.toarray()"
   ]
  },
  {
   "cell_type": "code",
   "execution_count": 45,
   "metadata": {},
   "outputs": [
    {
     "data": {
      "text/plain": [
       "array([ 4,  5,  8, 13, 19, 28, 43, 64])"
      ]
     },
     "execution_count": 45,
     "metadata": {},
     "output_type": "execute_result"
    }
   ],
   "source": [
    "N"
   ]
  },
  {
   "cell_type": "code",
   "execution_count": 90,
   "metadata": {
    "scrolled": true
   },
   "outputs": [
    {
     "data": {
      "text/plain": [
       "array([ 16,  21,  29,  40,  54,  74, 101, 138, 188, 256])"
      ]
     },
     "execution_count": 90,
     "metadata": {},
     "output_type": "execute_result"
    }
   ],
   "source": [
    "np.logspace(4, 8, 10, dtype=int, base=2)"
   ]
  },
  {
   "cell_type": "code",
   "execution_count": 91,
   "metadata": {},
   "outputs": [
    {
     "ename": "AssertionError",
     "evalue": "[Error] Index out of boundary!",
     "output_type": "error",
     "traceback": [
      "\u001b[0;31m\u001b[0m",
      "\u001b[0;31mAssertionError\u001b[0mTraceback (most recent call last)",
      "\u001b[0;32m<ipython-input-91-1d074e2d1d33>\u001b[0m in \u001b[0;36m<module>\u001b[0;34m()\u001b[0m\n\u001b[1;32m      1\u001b[0m \u001b[0;31m#Sometimes have to rerun computation\u001b[0m\u001b[0;34m\u001b[0m\u001b[0;34m\u001b[0m\u001b[0m\n\u001b[0;32m----> 2\u001b[0;31m \u001b[0mmain\u001b[0m\u001b[0;34m(\u001b[0m\u001b[0;36m10\u001b[0m\u001b[0;34m,\u001b[0m\u001b[0madj_matrix_to_list\u001b[0m\u001b[0;34m(\u001b[0m\u001b[0mA\u001b[0m\u001b[0;34m.\u001b[0m\u001b[0mtoarray\u001b[0m\u001b[0;34m(\u001b[0m\u001b[0;34m)\u001b[0m\u001b[0;34m)\u001b[0m\u001b[0;34m)\u001b[0m\u001b[0;34m\u001b[0m\u001b[0m\n\u001b[0m",
      "\u001b[0;32m<ipython-input-15-4728f67ab758>\u001b[0m in \u001b[0;36mmain\u001b[0;34m(n_node, edges)\u001b[0m\n\u001b[1;32m    113\u001b[0m \u001b[0;34m\u001b[0m\u001b[0m\n\u001b[1;32m    114\u001b[0m \u001b[0;32mdef\u001b[0m \u001b[0mmain\u001b[0m\u001b[0;34m(\u001b[0m\u001b[0mn_node\u001b[0m\u001b[0;34m,\u001b[0m \u001b[0medges\u001b[0m\u001b[0;34m)\u001b[0m\u001b[0;34m:\u001b[0m\u001b[0;34m\u001b[0m\u001b[0m\n\u001b[0;32m--> 115\u001b[0;31m     \u001b[0mqubo\u001b[0m \u001b[0;34m=\u001b[0m \u001b[0mbuild_max_cut_rule\u001b[0m\u001b[0;34m(\u001b[0m\u001b[0mn_node\u001b[0m\u001b[0;34m,\u001b[0m \u001b[0medges\u001b[0m\u001b[0;34m)\u001b[0m\u001b[0;34m\u001b[0m\u001b[0m\n\u001b[0m\u001b[1;32m    116\u001b[0m \u001b[0;34m\u001b[0m\u001b[0m\n\u001b[1;32m    117\u001b[0m     \u001b[0;31m# wrapper to call DA API.\u001b[0m\u001b[0;34m\u001b[0m\u001b[0;34m\u001b[0m\u001b[0m\n",
      "\u001b[0;32m<ipython-input-15-4728f67ab758>\u001b[0m in \u001b[0;36mbuild_max_cut_rule\u001b[0;34m(n_node, edges)\u001b[0m\n\u001b[1;32m     64\u001b[0m     \u001b[0;32mfor\u001b[0m \u001b[0;34m(\u001b[0m\u001b[0mi\u001b[0m\u001b[0;34m,\u001b[0m \u001b[0mj\u001b[0m\u001b[0;34m,\u001b[0m \u001b[0mdij\u001b[0m\u001b[0;34m)\u001b[0m \u001b[0;32min\u001b[0m \u001b[0medges\u001b[0m\u001b[0;34m:\u001b[0m\u001b[0;34m\u001b[0m\u001b[0m\n\u001b[1;32m     65\u001b[0m       \u001b[0;31m# dij * (x_i - x_j) ^ 2\u001b[0m\u001b[0;34m\u001b[0m\u001b[0;34m\u001b[0m\u001b[0m\n\u001b[0;32m---> 66\u001b[0;31m         \u001b[0mrule\u001b[0m\u001b[0;34m.\u001b[0m\u001b[0madd_coef\u001b[0m\u001b[0;34m(\u001b[0m\u001b[0mi\u001b[0m\u001b[0;34m,\u001b[0m \u001b[0mj\u001b[0m\u001b[0;34m,\u001b[0m \u001b[0;34m-\u001b[0m\u001b[0;36m2\u001b[0m \u001b[0;34m*\u001b[0m \u001b[0mdij\u001b[0m\u001b[0;34m)\u001b[0m\u001b[0;34m\u001b[0m\u001b[0m\n\u001b[0m\u001b[1;32m     67\u001b[0m         \u001b[0mrule\u001b[0m\u001b[0;34m.\u001b[0m\u001b[0madd_coef\u001b[0m\u001b[0;34m(\u001b[0m\u001b[0mi\u001b[0m\u001b[0;34m,\u001b[0m \u001b[0mi\u001b[0m\u001b[0;34m,\u001b[0m \u001b[0mdij\u001b[0m\u001b[0;34m)\u001b[0m\u001b[0;34m\u001b[0m\u001b[0m\n\u001b[1;32m     68\u001b[0m         \u001b[0mrule\u001b[0m\u001b[0;34m.\u001b[0m\u001b[0madd_coef\u001b[0m\u001b[0;34m(\u001b[0m\u001b[0mj\u001b[0m\u001b[0;34m,\u001b[0m \u001b[0mj\u001b[0m\u001b[0;34m,\u001b[0m \u001b[0mdij\u001b[0m\u001b[0;34m)\u001b[0m\u001b[0;34m\u001b[0m\u001b[0m\n",
      "\u001b[0;32m<ipython-input-15-4728f67ab758>\u001b[0m in \u001b[0;36madd_coef\u001b[0;34m(self, i, j, c)\u001b[0m\n\u001b[1;32m     31\u001b[0m             \u001b[0mj\u001b[0m \u001b[0;34m=\u001b[0m \u001b[0mt\u001b[0m\u001b[0;34m\u001b[0m\u001b[0m\n\u001b[1;32m     32\u001b[0m         \u001b[0;32massert\u001b[0m \u001b[0mi\u001b[0m \u001b[0;34m>=\u001b[0m \u001b[0;36m0\u001b[0m\u001b[0;34m,\u001b[0m \u001b[0;34m'[Error] Index out of boundary!'\u001b[0m\u001b[0;34m\u001b[0m\u001b[0m\n\u001b[0;32m---> 33\u001b[0;31m         \u001b[0;32massert\u001b[0m \u001b[0mj\u001b[0m \u001b[0;34m<\u001b[0m \u001b[0mself\u001b[0m\u001b[0;34m.\u001b[0m\u001b[0m_size\u001b[0m\u001b[0;34m,\u001b[0m \u001b[0;34m'[Error] Index out of boundary!'\u001b[0m\u001b[0;34m\u001b[0m\u001b[0m\n\u001b[0m\u001b[1;32m     34\u001b[0m         \u001b[0mself\u001b[0m\u001b[0;34m.\u001b[0m\u001b[0marray\u001b[0m\u001b[0;34m[\u001b[0m\u001b[0mi\u001b[0m\u001b[0;34m]\u001b[0m\u001b[0;34m[\u001b[0m\u001b[0mj\u001b[0m\u001b[0;34m]\u001b[0m \u001b[0;34m+=\u001b[0m \u001b[0mc\u001b[0m\u001b[0;34m\u001b[0m\u001b[0m\n\u001b[1;32m     35\u001b[0m \u001b[0;34m\u001b[0m\u001b[0m\n",
      "\u001b[0;31mAssertionError\u001b[0m: [Error] Index out of boundary!"
     ]
    }
   ],
   "source": [
    "#Sometimes have to rerun computation\n",
    "main(10,adj_matrix_to_list(A.toarray()))"
   ]
  },
  {
   "cell_type": "code",
   "execution_count": 37,
   "metadata": {},
   "outputs": [
    {
     "ename": "AssertionError",
     "evalue": "[Error] Index out of boundary!",
     "output_type": "error",
     "traceback": [
      "\u001b[0;31m\u001b[0m",
      "\u001b[0;31mAssertionError\u001b[0mTraceback (most recent call last)",
      "\u001b[0;32m<ipython-input-37-a7d736813d42>\u001b[0m in \u001b[0;36m<module>\u001b[0;34m()\u001b[0m\n\u001b[0;32m----> 1\u001b[0;31m \u001b[0mcalculate_optimal_value\u001b[0m\u001b[0;34m(\u001b[0m\u001b[0mA\u001b[0m\u001b[0;34m,\u001b[0m \u001b[0mmain\u001b[0m\u001b[0;34m(\u001b[0m\u001b[0mn\u001b[0m\u001b[0;34m,\u001b[0m\u001b[0madj_matrix_to_list\u001b[0m\u001b[0;34m(\u001b[0m\u001b[0mA\u001b[0m\u001b[0;34m.\u001b[0m\u001b[0mtoarray\u001b[0m\u001b[0;34m(\u001b[0m\u001b[0;34m)\u001b[0m\u001b[0;34m)\u001b[0m\u001b[0;34m)\u001b[0m\u001b[0;34m.\u001b[0m\u001b[0mconfiguration\u001b[0m\u001b[0;34m)\u001b[0m\u001b[0;34m\u001b[0m\u001b[0m\n\u001b[0m",
      "\u001b[0;32m<ipython-input-15-4728f67ab758>\u001b[0m in \u001b[0;36mmain\u001b[0;34m(n_node, edges)\u001b[0m\n\u001b[1;32m    113\u001b[0m \u001b[0;34m\u001b[0m\u001b[0m\n\u001b[1;32m    114\u001b[0m \u001b[0;32mdef\u001b[0m \u001b[0mmain\u001b[0m\u001b[0;34m(\u001b[0m\u001b[0mn_node\u001b[0m\u001b[0;34m,\u001b[0m \u001b[0medges\u001b[0m\u001b[0;34m)\u001b[0m\u001b[0;34m:\u001b[0m\u001b[0;34m\u001b[0m\u001b[0m\n\u001b[0;32m--> 115\u001b[0;31m     \u001b[0mqubo\u001b[0m \u001b[0;34m=\u001b[0m \u001b[0mbuild_max_cut_rule\u001b[0m\u001b[0;34m(\u001b[0m\u001b[0mn_node\u001b[0m\u001b[0;34m,\u001b[0m \u001b[0medges\u001b[0m\u001b[0;34m)\u001b[0m\u001b[0;34m\u001b[0m\u001b[0m\n\u001b[0m\u001b[1;32m    116\u001b[0m \u001b[0;34m\u001b[0m\u001b[0m\n\u001b[1;32m    117\u001b[0m     \u001b[0;31m# wrapper to call DA API.\u001b[0m\u001b[0;34m\u001b[0m\u001b[0;34m\u001b[0m\u001b[0m\n",
      "\u001b[0;32m<ipython-input-15-4728f67ab758>\u001b[0m in \u001b[0;36mbuild_max_cut_rule\u001b[0;34m(n_node, edges)\u001b[0m\n\u001b[1;32m     64\u001b[0m     \u001b[0;32mfor\u001b[0m \u001b[0;34m(\u001b[0m\u001b[0mi\u001b[0m\u001b[0;34m,\u001b[0m \u001b[0mj\u001b[0m\u001b[0;34m,\u001b[0m \u001b[0mdij\u001b[0m\u001b[0;34m)\u001b[0m \u001b[0;32min\u001b[0m \u001b[0medges\u001b[0m\u001b[0;34m:\u001b[0m\u001b[0;34m\u001b[0m\u001b[0m\n\u001b[1;32m     65\u001b[0m       \u001b[0;31m# dij * (x_i - x_j) ^ 2\u001b[0m\u001b[0;34m\u001b[0m\u001b[0;34m\u001b[0m\u001b[0m\n\u001b[0;32m---> 66\u001b[0;31m         \u001b[0mrule\u001b[0m\u001b[0;34m.\u001b[0m\u001b[0madd_coef\u001b[0m\u001b[0;34m(\u001b[0m\u001b[0mi\u001b[0m\u001b[0;34m,\u001b[0m \u001b[0mj\u001b[0m\u001b[0;34m,\u001b[0m \u001b[0;34m-\u001b[0m\u001b[0;36m2\u001b[0m \u001b[0;34m*\u001b[0m \u001b[0mdij\u001b[0m\u001b[0;34m)\u001b[0m\u001b[0;34m\u001b[0m\u001b[0m\n\u001b[0m\u001b[1;32m     67\u001b[0m         \u001b[0mrule\u001b[0m\u001b[0;34m.\u001b[0m\u001b[0madd_coef\u001b[0m\u001b[0;34m(\u001b[0m\u001b[0mi\u001b[0m\u001b[0;34m,\u001b[0m \u001b[0mi\u001b[0m\u001b[0;34m,\u001b[0m \u001b[0mdij\u001b[0m\u001b[0;34m)\u001b[0m\u001b[0;34m\u001b[0m\u001b[0m\n\u001b[1;32m     68\u001b[0m         \u001b[0mrule\u001b[0m\u001b[0;34m.\u001b[0m\u001b[0madd_coef\u001b[0m\u001b[0;34m(\u001b[0m\u001b[0mj\u001b[0m\u001b[0;34m,\u001b[0m \u001b[0mj\u001b[0m\u001b[0;34m,\u001b[0m \u001b[0mdij\u001b[0m\u001b[0;34m)\u001b[0m\u001b[0;34m\u001b[0m\u001b[0m\n",
      "\u001b[0;32m<ipython-input-15-4728f67ab758>\u001b[0m in \u001b[0;36madd_coef\u001b[0;34m(self, i, j, c)\u001b[0m\n\u001b[1;32m     31\u001b[0m             \u001b[0mj\u001b[0m \u001b[0;34m=\u001b[0m \u001b[0mt\u001b[0m\u001b[0;34m\u001b[0m\u001b[0m\n\u001b[1;32m     32\u001b[0m         \u001b[0;32massert\u001b[0m \u001b[0mi\u001b[0m \u001b[0;34m>=\u001b[0m \u001b[0;36m0\u001b[0m\u001b[0;34m,\u001b[0m \u001b[0;34m'[Error] Index out of boundary!'\u001b[0m\u001b[0;34m\u001b[0m\u001b[0m\n\u001b[0;32m---> 33\u001b[0;31m         \u001b[0;32massert\u001b[0m \u001b[0mj\u001b[0m \u001b[0;34m<\u001b[0m \u001b[0mself\u001b[0m\u001b[0;34m.\u001b[0m\u001b[0m_size\u001b[0m\u001b[0;34m,\u001b[0m \u001b[0;34m'[Error] Index out of boundary!'\u001b[0m\u001b[0;34m\u001b[0m\u001b[0m\n\u001b[0m\u001b[1;32m     34\u001b[0m         \u001b[0mself\u001b[0m\u001b[0;34m.\u001b[0m\u001b[0marray\u001b[0m\u001b[0;34m[\u001b[0m\u001b[0mi\u001b[0m\u001b[0;34m]\u001b[0m\u001b[0;34m[\u001b[0m\u001b[0mj\u001b[0m\u001b[0;34m]\u001b[0m \u001b[0;34m+=\u001b[0m \u001b[0mc\u001b[0m\u001b[0;34m\u001b[0m\u001b[0m\n\u001b[1;32m     35\u001b[0m \u001b[0;34m\u001b[0m\u001b[0m\n",
      "\u001b[0;31mAssertionError\u001b[0m: [Error] Index out of boundary!"
     ]
    }
   ],
   "source": [
    "calculate_optimal_value(A, main(n,adj_matrix_to_list(A.toarray())).configuration)"
   ]
  },
  {
   "cell_type": "code",
   "execution_count": 94,
   "metadata": {},
   "outputs": [
    {
     "data": {
      "application/vnd.jupyter.widget-view+json": {
       "model_id": "77b64a04044d4f07810c68f1042c26d5",
       "version_major": 2,
       "version_minor": 0
      },
      "text/plain": [
       "HBox(children=(IntProgress(value=0, max=9), HTML(value='')))"
      ]
     },
     "metadata": {},
     "output_type": "display_data"
    }
   ],
   "source": [
    "N = np.logspace(4, 8, 9, dtype=int, base=2)\n",
    "\n",
    "ub = []\n",
    "GW = []\n",
    "LS = []\n",
    "GA = []\n",
    "QUBO = []\n",
    "TSC = []\n",
    "BFC = []\n",
    "DS = []\n",
    "naive = []\n",
    "\n",
    "for n in tqdm_notebook(N):\n",
    "    L, A, G = graph_gen(n)\n",
    "    if (n <= 18):\n",
    "        naive += [naive_max_cut(L)[0]]\n",
    "    ub += [upper_bound_max_cut(L)[0]]\n",
    "    GW += [goemans_williamson_max_cut(L)[0]]\n",
    "    LS += [Local_Search_max_cut(L)[0]]\n",
    "    GA += [Greedy_Algorithm_max_cut(L)[0]]\n",
    "    QUBO += [calculate_optimal_value(A, main(n,adj_matrix_to_list(A.toarray())).configuration)]\n",
    "    \n",
    "    x = np.ones(n)\n",
    "    x[list(trevisan_approximation_alg(G)[0])] = -1\n",
    "    TSC +=  [L.dot(x).dot(x) / 4]\n",
    "    x = np.array(-np.sign(dual_scaling(L,1e-7)[0])).flatten()\n",
    "    DS += [L.dot(x).dot(x) / 4]"
   ]
  },
  {
   "cell_type": "code",
   "execution_count": 95,
   "metadata": {},
   "outputs": [
    {
     "data": {
      "image/png": "[encoded data removed]",
      "text/plain": [
       "<Figure size 1296x720 with 1 Axes>"
      ]
     },
     "metadata": {},
     "output_type": "display_data"
    }
   ],
   "source": [
    "plt.figure(figsize=(18, 10))\n",
    "plt.title(\"Time complexity in log scale\")\n",
    "plt.plot(N[:len(naive)], naive, '--', label='Naive approach', color='black')\n",
    "plt.plot(N, ub, label='Upper bound')\n",
    "plt.plot(N, GW, label='Goemans-Williamson')\n",
    "plt.plot(N, LS, label='Max-Cut using Local Search')\n",
    "plt.plot(N, GA, label='Max-Cut using Greedy Algorithm')\n",
    "plt.plot(N, QUBO, label='Max-Cut using Quantum Computing')\n",
    "plt.plot(N, TSC, label='2TSC Approximation Algorithm by Luca Trevisan')\n",
    "plt.plot(N, DS, label='Dual-Scaling')\n",
    "# plt.plot(N_naive, BFC, label='Brute Force Cut')\n",
    "plt.legend(fontsize=14)\n",
    "plt.ylabel(\"Value\")\n",
    "plt.xlabel(\"Number of nodes\")\n",
    "plt.yscale('log')"
   ]
  },
  {
   "cell_type": "raw",
   "metadata": {
    "scrolled": false
   },
   "source": [
    "N = np.logspace(1, 7,8, dtype=int, base=2)\n",
    "\n",
    "ub = []\n",
    "GW = []\n",
    "LS = []\n",
    "GA = []\n",
    "QUBO = []\n",
    "TSC = []\n",
    "BFC = []\n",
    "\n",
    "for n in tqdm_notebook(N):\n",
    "    L, A, G = graph_gen(n)\n",
    "    ub += [timeit.timeit(lambda: upper_bound_max_cut(L), number=3) / 3]\n",
    "    GW += [timeit.timeit(lambda: goemans_williamson_max_cut(L), number=3) / 3]\n",
    "    LS += [timeit.timeit(lambda: Local_Search_max_cut(L), number=3) / 3]\n",
    "    GA += [timeit.timeit(lambda: Greedy_Algorithm_max_cut(L), number=3) / 3]\n",
    "    QUBO += [timeit.timeit(lambda: main(n,adj_matrix_to_list(A.toarray())), number=3) / 3]\n",
    "    TSC +=  [timeit.timeit(lambda: trevisan_approximation_alg(G), number=3) / 3]\n",
    "    \n",
    "naive = []\n",
    "N_naive = np.linspace(2, 18, 9, dtype=int)\n",
    "for n in tqdm_notebook(N_naive):\n",
    "    L, _, G = graph_gen(n)\n",
    "    BFC += [timeit.timeit(lambda: brute_force_max_cut(G), number=3) / 3] \n",
    "    naive += [timeit.timeit(lambda: naive_max_cut(L), number=3) / 3]"
   ]
  },
  {
   "cell_type": "raw",
   "metadata": {},
   "source": [
    "plt.figure(figsize=(18, 10))\n",
    "plt.title(\"Time complexity in log scale\")\n",
    "plt.plot(N, ub, label='Upper bound')\n",
    "plt.plot(N, GW, label='Goemans-Williamson')\n",
    "plt.plot(N, LS, label='Max-Cut using Local Search')\n",
    "plt.plot(N, GA, label='Max-Cut using Greedy Algorithm')\n",
    "plt.plot(N, QUBO, label='Max-Cut using Quantum Computing')\n",
    "plt.plot(N, TSC, label='2TSC Approximation Algorithm by Luca Trevisan')\n",
    "plt.plot(N_naive, BFC, label='Brute Force Cut')\n",
    "plt.plot(N_naive, naive, label='Naive approach')\n",
    "plt.legend(fontsize=14)\n",
    "plt.ylabel(\"[sec]\")\n",
    "plt.xlabel(\"Number of nodes\")\n",
    "plt.yscale('log')"
   ]
  }
 ],
 "metadata": {
  "kernelspec": {
   "display_name": "Python 3",
   "language": "python",
   "name": "python3"
  },
  "language_info": {
   "codemirror_mode": {
    "name": "ipython",
    "version": 3
   },
   "file_extension": ".py",
   "mimetype": "text/x-python",
   "name": "python",
   "nbconvert_exporter": "python",
   "pygments_lexer": "ipython3",
   "version": "3.6.3"
  }
 },
 "nbformat": 4,
 "nbformat_minor": 2
}
